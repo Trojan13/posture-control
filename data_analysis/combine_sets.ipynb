{
 "cells": [
  {
   "cell_type": "code",
   "execution_count": 3,
   "metadata": {},
   "outputs": [],
   "source": [
    "import os, os.path\n",
    "import numpy as np \n",
    "import pandas as pd \n",
    "import matplotlib as plt\n",
    "import seaborn as sb"
   ]
  },
  {
   "cell_type": "code",
   "execution_count": 5,
   "metadata": {},
   "outputs": [
    {
     "name": "stdout",
     "output_type": "stream",
     "text": [
      "[Errno 2] No such file or directory: '../server/data'\n",
      "/home/tpack/posturecontrol/server/data\n"
     ]
    }
   ],
   "source": [
    "cd ../server/data"
   ]
  },
  {
   "cell_type": "code",
   "execution_count": 8,
   "metadata": {},
   "outputs": [],
   "source": [
    "files = []\n",
    "completedf = pd.DataFrame(columns=['movementType','data'])\n",
    "files = os.listdir(\"./\")\n",
    "for i,file in enumerate(files):\n",
    "    nameParts = file.split(\"_\")\n",
    "    curFilePD = pd.read_csv(file, sep=\" \", names=[\"elapsedTime\",\"fsr_1\",\"fsr_2\",\"gyrox_1\",\"gyroy_1\",\"gyroz_1\",\"gyrox_2\",\"gyroy_2\",\"gyroz_2\",\"gyrox_3\",\"gyroy_3\",\"gyroz_3\",\"gyrox_4\",\"gyroy_4\",\"gyroz_4\",\"accelx_1\",\"accely_1\",\"accelz_1\",\"accelx_2\",\"accely_2\",\"accelz_2\",\"accelx_3\",\"accely_3\",\"accelz_3\",\"accelx_4\",\"accely_4\",\"accelz_4\"])\n",
    "    fileData= curFilePD[[\"elapsedTime\",\"fsr_1\",\"fsr_2\",\"gyrox_1\",\"gyroy_1\",\"gyroz_1\",\"gyrox_2\",\"gyroy_2\",\"gyroz_2\",\"gyrox_3\",\"gyroy_3\",\"gyroz_3\",\"gyrox_4\",\"gyroy_4\",\"gyroz_4\",\"accelx_1\",\"accely_1\",\"accelz_1\",\"accelx_2\",\"accely_2\",\"accelz_2\",\"accelx_3\",\"accely_3\",\"accelz_3\",\"accelx_4\",\"accely_4\",\"accelz_4\"]].to_numpy()\n",
    "    series = pd.Series(data={'movementType': nameParts[1], 'data':fileData.tolist()})\n",
    "    df_temp= pd.DataFrame([series])\n",
    "    completedf=pd.concat([completedf,df_temp], ignore_index=True) \n",
    "    \n"
   ]
  },
  {
   "cell_type": "code",
   "execution_count": 9,
   "metadata": {},
   "outputs": [],
   "source": [
    "completedf.to_csv('complete_data.csv', index=False)"
   ]
  }
 ],
 "metadata": {
  "interpreter": {
   "hash": "916dbcbb3f70747c44a77c7bcd40155683ae19c65e1c03b4aa3499c5328201f1"
  },
  "kernelspec": {
   "display_name": "Python 3.8.10 64-bit",
   "language": "python",
   "name": "python3"
  },
  "language_info": {
   "codemirror_mode": {
    "name": "ipython",
    "version": 3
   },
   "file_extension": ".py",
   "mimetype": "text/x-python",
   "name": "python",
   "nbconvert_exporter": "python",
   "pygments_lexer": "ipython3",
   "version": "3.8.10"
  },
  "orig_nbformat": 4
 },
 "nbformat": 4,
 "nbformat_minor": 2
}
